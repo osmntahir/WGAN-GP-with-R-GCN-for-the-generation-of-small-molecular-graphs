{
  "cells": [
    {
      "cell_type": "markdown",
      "metadata": {
        "id": "c1wsR1OKPrP7"
      },
      "source": [
        "# **ÖDEVİ HAZIRLAYANLAR**\n",
        "**G221210389  Buğra Kayacan 2-B**\n",
        "\n",
        "**G211210059  Osman Tahir Özdemir 2-B**\n",
        "\n",
        "**G211210301 Muhammed Fatih Seyhun 2-B**\n",
        "\n",
        "\n",
        "\n",
        "\n",
        "\n"
      ]
    },
    {
      "cell_type": "markdown",
      "metadata": {
        "id": "u6oooL6sOYWd"
      },
      "source": [
        "**Kullanılan Algoritma -->** WGAN-GP with R-GCN for the generation of small molecular graphs\n",
        "\n",
        "**Örnek Adresi -->** https://keras.io/examples/generative/wgan-graphs/\n",
        "\n",
        "**Örnekteki dataset -->** Küçük Kuantum Mekanik Molekülleri (QM9)\n",
        "\n",
        "**Kullanılan dataset -->** Çoklu Kuantum Mekanik Molekülleri (QM8)\n"
      ]
    },
    {
      "cell_type": "markdown",
      "metadata": {
        "id": "BaKhRW5dQ89h"
      },
      "source": [
        "# WGAN-GP with R-GCN for the generation of small molecular graphs algoritmasının tanımı\n",
        "Bu öğreticinin temel amacı, WGAN-GP ve R-GCN gibi teknolojileri bir araya getirerek yeni moleküler grafikler oluşturmaktır. WGAN-GP modelini moleküler grafik verileriyle eğiterek, üreteci yeni moleküller üretmeyi öğrenir. Bu yeni moleküller, eğitim veri kümesindeki moleküllerle benzer özelliklere sahip olur. R-GCN bileşeni ise moleküler grafiklerin içerisindeki atomlar ve bağlar arasındaki karmaşık ilişkileri anlamak için kullanılır.\n",
        "\n",
        "Sonuç olarak, WGAN-GP ve R-GCN'nin birleşimiyle güçlü bir moleküler grafik üretme sistemi elde edilir. Bu sistem, ilaç keşfi ve geliştirme süreçlerine önemli katkılar sağlayabilir. Yeni moleküllerin keşfedilmesinde ve farmasötik uygulamalar için uygun özelliklere sahip moleküllerin bulunmasında büyük bir potansiyel taşır. Bu generatif model, moleküler uzayın farklı bölgelerini keşfetmemize olanak tanır ve değerli moleküllerin keşfedilmesine yardımcı olabilir."
      ]
    },
    {
      "cell_type": "markdown",
      "metadata": {
        "id": "v66zVPbiS9Pb"
      },
      "source": [
        "# Örnekte kullanılan QM9 datasetinin tanıtımı\n",
        "Bu dataseti, CHONF elementlerinden oluşan 134.000 stabil küçük organik molekülün geometrik, enerjik, elektronik ve termodinamik özelliklerini içeren bir veri seti sunar. Bu moleküller, GDB-17 kimyasal evreninin bir alt kümesidir ve en fazla dokuz ağır atom içerir. Kuantum kimyasının B3LYP/6-31G(2df,p) seviyesinde hesaplanan özellikler, moleküler tasarım ve yapı-özellik ilişkileri çalışmalarında kullanılabilir. Ayrıca, baskın bir stoikiyometri için 6.095 yapısal izomer de rapor edilmiştir. Bu veri seti, yeni ilaçlar ve malzemelerin keşfi için benchmark oluşturabilir ve yeni yöntemlerin geliştirilmesine katkıda bulunabilir."
      ]
    },
    {
      "cell_type": "markdown",
      "metadata": {
        "id": "q9xIxiclTZiX"
      },
      "source": [
        "# Bizim kullandığımız QM8 datasetinin tanımı\n",
        "QM8 veri seti, son zamanlarda küçük moleküllerin elektronik spektrumlarını ve uyarılmış durum enerjilerini modelleme üzerine yapılan bir çalışmadan gelir. Zaman bağımlı yoğunluk fonksiyonel teoriler (TDDFT) ve ikinci dereceden yaklaşımsal bağlı kümeleme (CC2) dahil olmak üzere çeşitli yöntemler, en fazla sekiz ağır atom içeren bir molekül koleksiyonuna (aynı zamanda GDB-17 veritabanının bir alt kümesi) uygulanmıştır. Toplamda, üç farklı yöntemde hesaplanan dört uyarılmış durum özelliği 22 bin örnekte mevcuttur.\n",
        "\n",
        "Bu veri seti, Moleculenet Benchmark kapsamında yer alır ve moleküler spektroskopinin kuantum mekaniği hesaplamalarını modellemek için kullanılır."
      ]
    },
    {
      "cell_type": "markdown",
      "metadata": {
        "id": "_NeScyMXUmZl"
      },
      "source": [
        "# Örneği çalıştıralım\n",
        "\n",
        "## Gerekli paketlerin indirilmesi\n",
        "\n",
        "**RDKit, C++ ve Python'da yazılmış bir kimya bilgi bilimi ve makine öğrenimi yazılım koleksiyonudur. Bu öğreticide, RDKit, SMILES'ı molekül nesnelerine kolay ve verimli bir şekilde dönüştürmek için kullanılır. SMILES, bir molekülün yapısını ASCII dizesi biçiminde ifade eder. RDKit, verilen bir SMILES'ı doğru bir şekilde molekül nesnesine dönüştürmek için algoritmalar kullanır. Bu nesne daha sonra birçok moleküler özelliği/özelliklerini hesaplamak için kullanılabilir.**"
      ]
    },
    {
      "cell_type": "code",
      "execution_count": 92,
      "metadata": {
        "id": "Uji-8M5N9wEe"
      },
      "outputs": [],
      "source": [
        "pip -q install rdkit-pypi\n"
      ]
    },
    {
      "cell_type": "markdown",
      "metadata": {
        "id": "JnYSSgFWU44j"
      },
      "source": [
        "**Molekül nesnelerinin kolayca görselleştirilmesine izin vermek için Pillow yüklü olmalıdır.**"
      ]
    },
    {
      "cell_type": "code",
      "execution_count": 93,
      "metadata": {
        "id": "zp8BCnx890ip"
      },
      "outputs": [],
      "source": [
        "pip -q install Pillow\n"
      ]
    },
    {
      "cell_type": "markdown",
      "metadata": {
        "id": "6J-NhhNHU9tm"
      },
      "source": [
        "**Paketlerin import edilmesi**"
      ]
    },
    {
      "cell_type": "code",
      "execution_count": 94,
      "metadata": {
        "id": "pgBAdfs595IL"
      },
      "outputs": [],
      "source": [
        "from rdkit import Chem, RDLogger  # RDKit ve RDLogger modüllerini içe aktar\n",
        "from rdkit.Chem.Draw import IPythonConsole, MolsToGridImage  # RDKit'ten çizim işlevlerini içe aktar\n",
        "import numpy as np  # NumPy kütüphanesini içe aktar\n",
        "import tensorflow as tf  # TensorFlow kütüphanesini içe aktar\n",
        "from tensorflow import keras  # TensorFlow'dan Keras'ı içe aktar\n",
        "\n",
        "RDLogger.DisableLog(\"rdApp.*\")  # RDKit'in log mesajlarını devre dışı bırak\n"
      ]
    },
    {
      "cell_type": "markdown",
      "metadata": {
        "id": "bANxN2DbVbae"
      },
      "source": [
        "\n",
        "**Bu öğreticide kullanılan veri seti MoleculeNet'ten alınan bir kuantum mekaniği veri seti (QM9)dir. Veri setinde birçok özellik ve etiket sütunu bulunmasına rağmen, sadece SMILES sütununa odaklanacağız. QM9 veri seti, grafikler oluşturmak için iyi bir başlangıç veri setidir çünkü bir molekülde bulunan maksimum ağır (hidrojen olmayan) atom sayısı sadece dokuzdur.**"
      ]
    },
    {
      "cell_type": "code",
      "execution_count": 95,
      "metadata": {
        "colab": {
          "base_uri": "https://localhost:8080/",
          "height": 202
        },
        "id": "rF0uvW-v-FRQ",
        "outputId": "b5f4308d-ba87-4dee-aca2-be7051d0dd7b"
      },
      "outputs": [
        {
          "name": "stdout",
          "output_type": "stream",
          "text": [
            "SMILES: Cn1cncc1O\n",
            "Num heavy atoms: 7\n"
          ]
        },
        {
          "data": {
            "image/png": "[encoded data removed]",
            "text/plain": [
              "<rdkit.Chem.rdchem.Mol at 0x7be73e9430d0>"
            ]
          },
          "execution_count": 95,
          "metadata": {},
          "output_type": "execute_result"
        }
      ],
      "source": [
        "csv_path = tf.keras.utils.get_file(\n",
        "    \"qm9.csv\", \"https://deepchemdata.s3-us-west-1.amazonaws.com/datasets/qm9.csv\"\n",
        ")\n",
        "\n",
        "data = []\n",
        "with open(csv_path, \"r\") as f:\n",
        "    for line in f.readlines()[1:]:\n",
        "        data.append(line.split(\",\")[1])\n",
        "\n",
        "# Bir veri kümesi molekülüne bakalım\n",
        "smiles = data[1000]\n",
        "print(\"SMILES:\", smiles)  # SMILES dizisini yazdır\n",
        "molecule = Chem.MolFromSmiles(smiles)\n",
        "print(\"Num heavy atoms:\", molecule.GetNumHeavyAtoms())  # Ağır atom sayısını yazdır\n",
        "molecule\n"
      ]
    },
    {
      "cell_type": "markdown",
      "metadata": {
        "id": "EU9PL9wEWGO2"
      },
      "source": [
        "**Moleküler grafiklerin temsil edilmesi: Moleküller doğal olarak yönsüz grafikler olarak ifade edilebilir. Bu uygulamada, her graf (molekül), varlık/yokluklarını, bir boyutu daha uzatan bir sıcak kodlu bağ türleri ile atom çiftlerinin bulunmasıyla kodlayan bir komşuluk tensörü A ve her bir atom için atom tipini sıcak kodlayan bir özellik tensörü H olarak temsil edilecektir. RDKit tarafından hidrojen atomları çıkarılabileceğinden, modelleme işlemlerini kolaylaştırmak için A ve H'den hidrojen atomları hariç tutulmuştur.**"
      ]
    },
    {
      "cell_type": "code",
      "execution_count": 96,
      "metadata": {
        "colab": {
          "base_uri": "https://localhost:8080/",
          "height": 167
        },
        "id": "SErzVqgQ-KTa",
        "outputId": "5144ad38-dca7-4b93-e902-c436462df1ca"
      },
      "outputs": [
        {
          "data": {
            "image/png": "[encoded data removed]",
            "text/plain": [
              "<rdkit.Chem.rdchem.RWMol at 0x7be727198810>"
            ]
          },
          "execution_count": 96,
          "metadata": {},
          "output_type": "execute_result"
        }
      ],
      "source": [
        "atom_mapping = {\n",
        "    \"C\": 0,\n",
        "    0: \"C\",\n",
        "    \"N\": 1,\n",
        "    1: \"N\",\n",
        "    \"O\": 2,\n",
        "    2: \"O\",\n",
        "    \"F\": 3,\n",
        "    3: \"F\",\n",
        "}\n",
        "\n",
        "bond_mapping = {\n",
        "    \"SINGLE\": 0,\n",
        "    0: Chem.BondType.SINGLE,\n",
        "    \"DOUBLE\": 1,\n",
        "    1: Chem.BondType.DOUBLE,\n",
        "    \"TRIPLE\": 2,\n",
        "    2: Chem.BondType.TRIPLE,\n",
        "    \"AROMATIC\": 3,\n",
        "    3: Chem.BondType.AROMATIC,\n",
        "}\n",
        "\n",
        "NUM_ATOMS = 9  # Maksimum atom sayısı\n",
        "ATOM_DIM = 4 + 1  # Atom türü sayısı\n",
        "BOND_DIM = 4 + 1  # Bağ türü sayısı\n",
        "LATENT_DIM = 64  # Latent uzay boyutu\n",
        "\n",
        "\n",
        "def smiles_to_graph(smiles):\n",
        "    # SMILES'ı molekül nesnesine dönüştür\n",
        "    molecule = Chem.MolFromSmiles(smiles)\n",
        "\n",
        "    # Komşuluk ve özellik tensörlerini başlat\n",
        "    adjacency = np.zeros((BOND_DIM, NUM_ATOMS, NUM_ATOMS), \"float32\")\n",
        "    features = np.zeros((NUM_ATOMS, ATOM_DIM), \"float32\")\n",
        "\n",
        "    # Moleküldeki her atom için\n",
        "    for atom in molecule.GetAtoms():\n",
        "        i = atom.GetIdx()\n",
        "        atom_type = atom_mapping[atom.GetSymbol()]\n",
        "        features[i] = np.eye(ATOM_DIM)[atom_type]\n",
        "        # Bir-hops komşuları için döngü\n",
        "        for neighbor in atom.GetNeighbors():\n",
        "            j = neighbor.GetIdx()\n",
        "            bond = molecule.GetBondBetweenAtoms(i, j)\n",
        "            bond_type_idx = bond_mapping[bond.GetBondType().name]\n",
        "            adjacency[bond_type_idx, [i, j], [j, i]] = 1\n",
        "\n",
        "    # Bağ yoksa, son kanala 1 ekle (bağsız olduğunu belirtir)\n",
        "    # Dikkat: kanallar önce\n",
        "    adjacency[-1, np.sum(adjacency, axis=0) == 0] = 1\n",
        "\n",
        "    # Atom yoksa, son sütuna 1 ekle (atom olmadığını belirtir)\n",
        "    features[np.where(np.sum(features, axis=1) == 0)[0], -1] = 1\n",
        "\n",
        "    return adjacency, features\n",
        "\n",
        "\n",
        "def graph_to_molecule(graph):\n",
        "    # Grafikten molekülü çöz\n",
        "    adjacency, features = graph\n",
        "\n",
        "    # RWMol, düzenlenmesi amaçlanan bir molekül nesnesidir\n",
        "    molecule = Chem.RWMol()\n",
        "\n",
        "    # \"Atom yok\" & bağsız atomları kaldır\n",
        "    keep_idx = np.where(\n",
        "        (np.argmax(features, axis=1) != ATOM_DIM - 1)\n",
        "        & (np.sum(adjacency[:-1], axis=(0, 1)) != 0)\n",
        "    )[0]\n",
        "    features = features[keep_idx]\n",
        "    adjacency = adjacency[:, keep_idx, :][:, :, keep_idx]\n",
        "\n",
        "    # Moleküle atom ekle\n",
        "    for atom_type_idx in np.argmax(features, axis=1):\n",
        "        atom = Chem.Atom(atom_mapping[atom_type_idx])\n",
        "        _ = molecule.AddAtom(atom)\n",
        "\n",
        "    # Moleküldeki atomlar arasında bağ ekle; üst üçgenlere dayanarak\n",
        "    # [simetrik] komşuluk tensörü\n",
        "    (bonds_ij, atoms_i, atoms_j) = np.where(np.triu(adjacency) == 1)\n",
        "    for (bond_ij, atom_i, atom_j) in zip(bonds_ij, atoms_i, atoms_j):\n",
        "        if atom_i == atom_j or bond_ij == BOND_DIM - 1:\n",
        "            continue\n",
        "        bond_type = bond_mapping[bond_ij]\n",
        "        molecule.AddBond(int(atom_i), int(atom_j), bond_type)\n",
        "\n",
        "    # Molekülü düzenle; daha fazla bilgi için\n",
        "    # https://www.rdkit.org/docs/RDKit_Book.html#molecular-sanitization\n",
        "    flag = Chem.SanitizeMol(molecule, catchErrors=True)\n",
        "    # Katı olalım. Düzenleme başarısız olursa, None döndür\n",
        "    if flag != Chem.SanitizeFlags.SANITIZE_NONE:\n",
        "        return None\n",
        "\n",
        "    return molecule\n",
        "\n",
        "\n",
        "# Yardımcı işlevleri test et\n",
        "graph_to_molecule(smiles_to_graph(smiles))\n"
      ]
    },
    {
      "cell_type": "markdown",
      "metadata": {
        "id": "tAp5kGXFW66N"
      },
      "source": [
        "# Eğitim setini oluştur\n",
        "**Eğitim süresini kısaltmak için, sadece QM9 veri setinin onda birini kullanacağız.**"
      ]
    },
    {
      "cell_type": "code",
      "execution_count": 97,
      "metadata": {
        "colab": {
          "base_uri": "https://localhost:8080/"
        },
        "id": "gn66x1jb-QHB",
        "outputId": "f1c049bd-3120-49b9-d1ca-658c31874fa4"
      },
      "outputs": [
        {
          "name": "stdout",
          "output_type": "stream",
          "text": [
            "adjacency_tensor.shape = (13389, 5, 9, 9)\n",
            "feature_tensor.shape = (13389, 9, 5)\n"
          ]
        }
      ],
      "source": [
        "adjacency_tensor, feature_tensor = [], []\n",
        "\n",
        "# Veri setinin onda birini kullanarak döngü\n",
        "for smiles in data[::10]:\n",
        "    # SMILES'i grafiklere dönüştür\n",
        "    adjacency, features = smiles_to_graph(smiles)\n",
        "    # Komşuluk tensörü ve özellik tensörünü ekle\n",
        "    adjacency_tensor.append(adjacency)\n",
        "    feature_tensor.append(features)\n",
        "\n",
        "# Listeleri numpy dizilerine dönüştür\n",
        "adjacency_tensor = np.array(adjacency_tensor)\n",
        "feature_tensor = np.array(feature_tensor)\n",
        "\n",
        "# Tensör şekillerini yazdır\n",
        "print(\"adjacency_tensor.shape =\", adjacency_tensor.shape)\n",
        "print(\"feature_tensor.shape =\", feature_tensor.shape)\n"
      ]
    },
    {
      "cell_type": "markdown",
      "metadata": {
        "id": "T8FWbvtwXzpO"
      },
      "source": [
        "\n",
        "Modelin temelinde, bir üretici ağı ve bir ayırt edici ağı uygulanacaktır. Bu WGAN-GP aracılığıyla gerçekleştirilecek ve sonuç olarak küçük yeni moleküller (küçük grafikler) üretebilen bir üretici ağı elde edeceğiz.\n",
        "\n",
        "Üretici ağı, her bir örneğin bir vektör z'sini (z'nin her bir örneği için) 3-B çevrilmişlik tensörü (A) ve 2-B özellik tensörüne (H) eşlemek için yetenekli olmalıdır. Bu amaçla, z önce tamamen bağlı bir ağa geçirilecek, çıktı daha sonra iki ayrı tamamen bağlı ağa geçirilecektir. Bu iki tam bağlı ağın her biri, ardından her bir örneğin için bir tanh-aktivasyonlu vektör çıktısı verecektir, ardından çok boyutlu bir komşuluk/özellik tensörü ile eşleşmesi için yeniden şekillendirme ve softmax ile devam edecektir.\n",
        "\n",
        "Ayırt edici ağı, üreticiden veya eğitim setinden bir grafik (A, H) olarak girdi aldığında, grafik konvolüsyonel katmanları uygulamamız gerekecektir, bu da bize grafikler üzerinde işlem yapmamıza izin verecektir. Bu, ayırt edici ağına girişin önce grafik konvolüsyonel katmanlardan geçirilmesi, ardından bir ortalama havuzlama katmanına, ve son olarak birkaç tam bağlı katmana geçmesi gerektiği anlamına gelir. Son çıktı, her bir örneğin için \"sahte\" veya \"gerçek\" molekülün \"gerçekliğini\" gösteren bir skaler olmalıdır."
      ]
    },
    {
      "cell_type": "code",
      "execution_count": 98,
      "metadata": {
        "colab": {
          "base_uri": "https://localhost:8080/"
        },
        "id": "lNKjEISC-T6P",
        "outputId": "6b0cbea9-5ecd-427b-a16d-175f411c0579"
      },
      "outputs": [
        {
          "name": "stdout",
          "output_type": "stream",
          "text": [
            "Model: \"Generator\"\n",
            "__________________________________________________________________________________________________\n",
            " Layer (type)                Output Shape                 Param #   Connected to                  \n",
            "==================================================================================================\n",
            " input_27 (InputLayer)       [(None, 64)]                 0         []                            \n",
            "                                                                                                  \n",
            " dense_74 (Dense)            (None, 128)                  8320      ['input_27[0][0]']            \n",
            "                                                                                                  \n",
            " dropout_46 (Dropout)        (None, 128)                  0         ['dense_74[0][0]']            \n",
            "                                                                                                  \n",
            " dense_75 (Dense)            (None, 256)                  33024     ['dropout_46[0][0]']          \n",
            "                                                                                                  \n",
            " dropout_47 (Dropout)        (None, 256)                  0         ['dense_75[0][0]']            \n",
            "                                                                                                  \n",
            " dense_76 (Dense)            (None, 512)                  131584    ['dropout_47[0][0]']          \n",
            "                                                                                                  \n",
            " dropout_48 (Dropout)        (None, 512)                  0         ['dense_76[0][0]']            \n",
            "                                                                                                  \n",
            " dense_77 (Dense)            (None, 405)                  207765    ['dropout_48[0][0]']          \n",
            "                                                                                                  \n",
            " reshape_20 (Reshape)        (None, 5, 9, 9)              0         ['dense_77[0][0]']            \n",
            "                                                                                                  \n",
            " tf.compat.v1.transpose_10   (None, 5, 9, 9)              0         ['reshape_20[0][0]']          \n",
            " (TFOpLambda)                                                                                     \n",
            "                                                                                                  \n",
            " tf.__operators__.add_10 (T  (None, 5, 9, 9)              0         ['reshape_20[0][0]',          \n",
            " FOpLambda)                                                          'tf.compat.v1.transpose_10[0]\n",
            "                                                                    [0]']                         \n",
            "                                                                                                  \n",
            " dense_78 (Dense)            (None, 45)                   23085     ['dropout_48[0][0]']          \n",
            "                                                                                                  \n",
            " tf.math.truediv_10 (TFOpLa  (None, 5, 9, 9)              0         ['tf.__operators__.add_10[0][0\n",
            " mbda)                                                              ]']                           \n",
            "                                                                                                  \n",
            " reshape_21 (Reshape)        (None, 9, 5)                 0         ['dense_78[0][0]']            \n",
            "                                                                                                  \n",
            " softmax_20 (Softmax)        (None, 5, 9, 9)              0         ['tf.math.truediv_10[0][0]']  \n",
            "                                                                                                  \n",
            " softmax_21 (Softmax)        (None, 9, 5)                 0         ['reshape_21[0][0]']          \n",
            "                                                                                                  \n",
            "==================================================================================================\n",
            "Total params: 403778 (1.54 MB)\n",
            "Trainable params: 403778 (1.54 MB)\n",
            "Non-trainable params: 0 (0.00 Byte)\n",
            "__________________________________________________________________________________________________\n"
          ]
        }
      ],
      "source": [
        "def GraphGenerator(\n",
        "    dense_units, dropout_rate, latent_dim, adjacency_shape, feature_shape,\n",
        "):\n",
        "    # Giriş katmanı oluştur\n",
        "    z = keras.layers.Input(shape=(latent_dim,))\n",
        "\n",
        "    # Bir veya daha fazla yoğun bağlı katmandan geçir\n",
        "    x = z\n",
        "    for units in dense_units:\n",
        "        x = keras.layers.Dense(units, activation=\"tanh\")(x)\n",
        "        x = keras.layers.Dropout(dropout_rate)(x)\n",
        "\n",
        "    # Önceki katmanın çıktılarını [sürekli] bitişiklik tensörlerine (x_adjacency) eşleştir\n",
        "    x_adjacency = keras.layers.Dense(tf.math.reduce_prod(adjacency_shape))(x)\n",
        "    x_adjacency = keras.layers.Reshape(adjacency_shape)(x_adjacency)\n",
        "    # Son iki boyutta tensörleri simetrize et\n",
        "    x_adjacency = (x_adjacency + tf.transpose(x_adjacency, (0, 1, 3, 2))) / 2\n",
        "    x_adjacency = keras.layers.Softmax(axis=1)(x_adjacency)\n",
        "\n",
        "    # Önceki katmanın çıktılarını [sürekli] özellik tensörlerine (x_features) eşleştir\n",
        "    x_features = keras.layers.Dense(tf.math.reduce_prod(feature_shape))(x)\n",
        "    x_features = keras.layers.Reshape(feature_shape)(x_features)\n",
        "    x_features = keras.layers.Softmax(axis=2)(x_features)\n",
        "\n",
        "    # Modeli oluştur ve adını belirle\n",
        "    return keras.Model(inputs=z, outputs=[x_adjacency, x_features], name=\"Generator\")\n",
        "\n",
        "\n",
        "# Örnek bir graf üreteci oluştur ve özetini al\n",
        "generator = GraphGenerator(\n",
        "    dense_units=[128, 256, 512],\n",
        "    dropout_rate=0.2,\n",
        "    latent_dim=LATENT_DIM,\n",
        "    adjacency_shape=(BOND_DIM, NUM_ATOMS, NUM_ATOMS),\n",
        "    feature_shape=(NUM_ATOMS, ATOM_DIM),\n",
        ")\n",
        "generator.summary()\n"
      ]
    },
    {
      "cell_type": "markdown",
      "metadata": {
        "id": "lXTE01QSZNty"
      },
      "source": [
        "Graf konvolüsyonel katmanlar, ilişkisel grafik yapılarında non-linear olarak dönüştürülmüş komşuluk birikimlerini uygular. Bu katmanlar aşağıdaki gibi tanımlanabilir:\n",
        "\n",
        "H^{l+1} = σ(D^{-1} @ A @ H^{l} @ W^{l})\n",
        "\n",
        "Burada σ non-linear dönüşümü (genellikle ReLU aktivasyonu olarak) ifade eder, A komşuluk tensörünü, H^{l} l:inci katmandaki özellik tensörünü, D^{-1} A'nın ters çap derecesi tensörünü, ve W^{l} l:inci katmandaki eğitilebilir ağırlık tensörünü gösterir. Özellikle, her bağ türü (ilişki) için, derece tensörü, köşelere bağlı bağ sayısını diyagonalde ifade eder. Bu öğreticide D^{-1} ihmal edilmiştir, iki nedenle: (1) bu normalizasyonun, üretilen sürekli komşuluk tensörleri üzerinde nasıl uygulanacağı açık değildir ve (2) normalizasyon olmadan WGAN'ın performansı oldukça iyi görünmektedir. Ayrıca, orijinal makalenin aksine, hiçbir kendinden döngü tanımlanmamıştır, çünkü üreteciyi \"kendine bağlanmayı\" tahmin etmesi için eğitmek istemiyoruz."
      ]
    },
    {
      "cell_type": "code",
      "execution_count": 99,
      "metadata": {
        "colab": {
          "base_uri": "https://localhost:8080/"
        },
        "id": "0EH2Ynnu-Yv2",
        "outputId": "34be2b05-a92e-48bc-a1d3-0fb998326cbb"
      },
      "outputs": [
        {
          "name": "stdout",
          "output_type": "stream",
          "text": [
            "Model: \"model_8\"\n",
            "__________________________________________________________________________________________________\n",
            " Layer (type)                Output Shape                 Param #   Connected to                  \n",
            "==================================================================================================\n",
            " input_28 (InputLayer)       [(None, 5, 9, 9)]            0         []                            \n",
            "                                                                                                  \n",
            " input_29 (InputLayer)       [(None, 9, 5)]               0         []                            \n",
            "                                                                                                  \n",
            " relational_graph_conv_laye  (None, 9, 128)               3200      ['input_28[0][0]',            \n",
            " r_32 (RelationalGraphConvL                                          'input_29[0][0]']            \n",
            " ayer)                                                                                            \n",
            "                                                                                                  \n",
            " relational_graph_conv_laye  (None, 9, 128)               81920     ['input_28[0][0]',            \n",
            " r_33 (RelationalGraphConvL                                          'relational_graph_conv_layer_\n",
            " ayer)                                                              32[0][0]']                    \n",
            "                                                                                                  \n",
            " relational_graph_conv_laye  (None, 9, 128)               81920     ['input_28[0][0]',            \n",
            " r_34 (RelationalGraphConvL                                          'relational_graph_conv_layer_\n",
            " ayer)                                                              33[0][0]']                    \n",
            "                                                                                                  \n",
            " relational_graph_conv_laye  (None, 9, 128)               81920     ['input_28[0][0]',            \n",
            " r_35 (RelationalGraphConvL                                          'relational_graph_conv_layer_\n",
            " ayer)                                                              34[0][0]']                    \n",
            "                                                                                                  \n",
            " global_average_pooling1d_8  (None, 128)                  0         ['relational_graph_conv_layer_\n",
            "  (GlobalAveragePooling1D)                                          35[0][0]']                    \n",
            "                                                                                                  \n",
            " dense_79 (Dense)            (None, 512)                  66048     ['global_average_pooling1d_8[0\n",
            "                                                                    ][0]']                        \n",
            "                                                                                                  \n",
            " dropout_49 (Dropout)        (None, 512)                  0         ['dense_79[0][0]']            \n",
            "                                                                                                  \n",
            " dense_80 (Dense)            (None, 512)                  262656    ['dropout_49[0][0]']          \n",
            "                                                                                                  \n",
            " dropout_50 (Dropout)        (None, 512)                  0         ['dense_80[0][0]']            \n",
            "                                                                                                  \n",
            " dense_81 (Dense)            (None, 1)                    513       ['dropout_50[0][0]']          \n",
            "                                                                                                  \n",
            "==================================================================================================\n",
            "Total params: 578177 (2.21 MB)\n",
            "Trainable params: 578177 (2.21 MB)\n",
            "Non-trainable params: 0 (0.00 Byte)\n",
            "__________________________________________________________________________________________________\n"
          ]
        }
      ],
      "source": [
        "class RelationalGraphConvLayer(keras.layers.Layer):\n",
        "    def __init__(\n",
        "        self,\n",
        "        units=128,\n",
        "        activation=\"relu\",\n",
        "        use_bias=False,\n",
        "        kernel_initializer=\"glorot_uniform\",\n",
        "        bias_initializer=\"zeros\",\n",
        "        kernel_regularizer=None,\n",
        "        bias_regularizer=None,\n",
        "        **kwargs\n",
        "    ):\n",
        "        super().__init__(**kwargs)\n",
        "\n",
        "        # Katmanın parametrelerini tanımla\n",
        "        self.units = units\n",
        "        self.activation = keras.activations.get(activation)\n",
        "        self.use_bias = use_bias\n",
        "        self.kernel_initializer = keras.initializers.get(kernel_initializer)\n",
        "        self.bias_initializer = keras.initializers.get(bias_initializer)\n",
        "        self.kernel_regularizer = keras.regularizers.get(kernel_regularizer)\n",
        "        self.bias_regularizer = keras.regularizers.get(bias_regularizer)\n",
        "\n",
        "    def build(self, input_shape):\n",
        "        # Giriş şeklinden bağ boyutunu ve atom boyutunu al\n",
        "        bond_dim = input_shape[0][1]\n",
        "        atom_dim = input_shape[1][2]\n",
        "\n",
        "        # Ağırlıkları oluştur\n",
        "        self.kernel = self.add_weight(\n",
        "            shape=(bond_dim, atom_dim, self.units),\n",
        "            initializer=self.kernel_initializer,\n",
        "            regularizer=self.kernel_regularizer,\n",
        "            trainable=True,\n",
        "            name=\"W\",\n",
        "            dtype=tf.float32,\n",
        "        )\n",
        "\n",
        "        if self.use_bias:\n",
        "            # Bias terimini oluştur (opsiyonel)\n",
        "            self.bias = self.add_weight(\n",
        "                shape=(bond_dim, 1, self.units),\n",
        "                initializer=self.bias_initializer,\n",
        "                regularizer=self.bias_regularizer,\n",
        "                trainable=True,\n",
        "                name=\"b\",\n",
        "                dtype=tf.float32,\n",
        "            )\n",
        "\n",
        "        self.built = True\n",
        "\n",
        "    def call(self, inputs, training=False):\n",
        "        adjacency, features = inputs\n",
        "        # Komşulardan bilgi topla\n",
        "        x = tf.matmul(adjacency, features[:, None, :, :])\n",
        "        # Doğrusal dönüşüm uygula\n",
        "        x = tf.matmul(x, self.kernel)\n",
        "        if self.use_bias:\n",
        "            x += self.bias\n",
        "        # Bağ türlerini azalt\n",
        "        x_reduced = tf.reduce_sum(x, axis=1)\n",
        "        # Doğrusal olmayan dönüşüm uygula\n",
        "        return self.activation(x_reduced)\n",
        "\n",
        "\n",
        "def GraphDiscriminator(\n",
        "    gconv_units, dense_units, dropout_rate, adjacency_shape, feature_shape\n",
        "):\n",
        "    # Giriş katmanlarını tanımla\n",
        "    adjacency = keras.layers.Input(shape=adjacency_shape)\n",
        "    features = keras.layers.Input(shape=feature_shape)\n",
        "\n",
        "    # Graf konvolüsyon katmanlarından geçir\n",
        "    features_transformed = features\n",
        "    for units in gconv_units:\n",
        "        features_transformed = RelationalGraphConvLayer(units)(\n",
        "            [adjacency, features_transformed]\n",
        "        )\n",
        "\n",
        "    # Molekülün 2-B temsilini 1-B'ye indirge\n",
        "    x = keras.layers.GlobalAveragePooling1D()(features_transformed)\n",
        "\n",
        "    # Yoğun bağlı katmanlardan geçir\n",
        "    for units in dense_units:\n",
        "        x = keras.layers.Dense(units, activation=\"relu\")(x)\n",
        "        x = keras.layers.Dropout(dropout_rate)(x)\n",
        "\n",
        "    # Her bir molekül için, girdi molekülün \"gerçekliğini\" ifade eden tek bir skalar değeri çıkar\n",
        "    x_out = keras.layers.Dense(1, dtype=\"float32\")(x)\n",
        "\n",
        "    return keras.Model(inputs=[adjacency, features], outputs=x_out)\n",
        "\n",
        "\n",
        "# Örnek bir graf ayırıcısı oluştur ve özetini al\n",
        "discriminator = GraphDiscriminator(\n",
        "    gconv_units=[128, 128, 128, 128],\n",
        "    dense_units=[512, 512],\n",
        "    dropout_rate=0.2,\n",
        "    adjacency_shape=(BOND_DIM, NUM_ATOMS, NUM_ATOMS),\n",
        "    feature_shape=(NUM_ATOMS, ATOM_DIM),\n",
        ")\n",
        "discriminator.summary()\n"
      ]
    },
    {
      "cell_type": "markdown",
      "metadata": {
        "id": "tZ9QUpHsZtae"
      },
      "source": [
        "# WGAN-GP"
      ]
    },
    {
      "cell_type": "code",
      "execution_count": 100,
      "metadata": {
        "id": "3dtqVOP4-dPH"
      },
      "outputs": [],
      "source": [
        "class GraphWGAN(keras.Model):\n",
        "    def __init__(\n",
        "        self,\n",
        "        generator,\n",
        "        discriminator,\n",
        "        discriminator_steps=1,\n",
        "        generator_steps=1,\n",
        "        gp_weight=10,\n",
        "        **kwargs\n",
        "    ):\n",
        "        # Modeli başlat\n",
        "        super().__init__(**kwargs)\n",
        "\n",
        "        # Generator ve discriminator modellerini kaydet\n",
        "        self.generator = generator\n",
        "        self.discriminator = discriminator\n",
        "\n",
        "        # Adımlar ve ağırlıklar için gerekli parametreleri tanımla\n",
        "        self.discriminator_steps = discriminator_steps\n",
        "        self.generator_steps = generator_steps\n",
        "        self.gp_weight = gp_weight\n",
        "\n",
        "        # Girdi boyutunu belirle\n",
        "        self.latent_dim = self.generator.input_shape[-1]\n",
        "\n",
        "    def compile(self, optimizer_generator, optimizer_discriminator, **kwargs):\n",
        "        # Derleme işlemi için optimizasyon ve metrikleri ayarla\n",
        "        super().compile(**kwargs)\n",
        "        self.optimizer_generator = optimizer_generator\n",
        "        self.optimizer_discriminator = optimizer_discriminator\n",
        "        self.metric_generator = keras.metrics.Mean(name=\"loss_gen\")\n",
        "        self.metric_discriminator = keras.metrics.Mean(name=\"loss_dis\")\n",
        "\n",
        "    def train_step(self, inputs):\n",
        "        # Girdi verisini kontrol et\n",
        "        if isinstance(inputs[0], tuple):\n",
        "            inputs = inputs[0]\n",
        "\n",
        "        graph_real = inputs\n",
        "\n",
        "        # Batch boyutunu al\n",
        "        self.batch_size = tf.shape(inputs[0])[0]\n",
        "\n",
        "        # Discriminator'ı bir veya daha fazla adım için eğit\n",
        "        for _ in range(self.discriminator_steps):\n",
        "            z = tf.random.normal((self.batch_size, self.latent_dim))\n",
        "\n",
        "            with tf.GradientTape() as tape:\n",
        "                graph_generated = self.generator(z, training=True)\n",
        "                loss = self._loss_discriminator(graph_real, graph_generated)\n",
        "\n",
        "            grads = tape.gradient(loss, self.discriminator.trainable_weights)\n",
        "            self.optimizer_discriminator.apply_gradients(\n",
        "                zip(grads, self.discriminator.trainable_weights)\n",
        "            )\n",
        "            self.metric_discriminator.update_state(loss)\n",
        "\n",
        "        # Generator'ı bir veya daha fazla adım için eğit\n",
        "        for _ in range(self.generator_steps):\n",
        "            z = tf.random.normal((self.batch_size, self.latent_dim))\n",
        "\n",
        "            with tf.GradientTape() as tape:\n",
        "                graph_generated = self.generator(z, training=True)\n",
        "                loss = self._loss_generator(graph_generated)\n",
        "\n",
        "                grads = tape.gradient(loss, self.generator.trainable_weights)\n",
        "                self.optimizer_generator.apply_gradients(\n",
        "                    zip(grads, self.generator.trainable_weights)\n",
        "                )\n",
        "                self.metric_generator.update_state(loss)\n",
        "\n",
        "        return {m.name: m.result() for m in self.metrics}\n",
        "\n",
        "    def _loss_discriminator(self, graph_real, graph_generated):\n",
        "        # Gerçek ve üretilmiş grafiklerin logitlerini hesapla\n",
        "        logits_real = self.discriminator(graph_real, training=True)\n",
        "        logits_generated = self.discriminator(graph_generated, training=True)\n",
        "        # Discriminator kaybını hesapla\n",
        "        loss = tf.reduce_mean(logits_generated) - tf.reduce_mean(logits_real)\n",
        "        # Gradyan sapması (gradient penalty) kaybını hesapla ve ağırlıkla çarp\n",
        "        loss_gp = self._gradient_penalty(graph_real, graph_generated)\n",
        "        return loss + loss_gp * self.gp_weight\n",
        "\n",
        "    def _loss_generator(self, graph_generated):\n",
        "        # Üretilmiş grafiklerin logitlerini hesapla\n",
        "        logits_generated = self.discriminator(graph_generated, training=True)\n",
        "        # Generator kaybını hesapla\n",
        "        return -tf.reduce_mean(logits_generated)\n",
        "\n",
        "    def _gradient_penalty(self, graph_real, graph_generated):\n",
        "        # Grafikleri aç\n",
        "        adjacency_real, features_real = graph_real\n",
        "        adjacency_generated, features_generated = graph_generated\n",
        "\n",
        "        # Aradaki grafikleri oluştur (adjacency_interp ve features_interp)\n",
        "        alpha = tf.random.uniform([self.batch_size])\n",
        "        alpha = tf.reshape(alpha, (self.batch_size, 1, 1, 1))\n",
        "        adjacency_interp = (adjacency_real * alpha) + (1 - alpha) * adjacency_generated\n",
        "        alpha = tf.reshape(alpha, (self.batch_size, 1, 1))\n",
        "        features_interp = (features_real * alpha) + (1 - alpha) * features_generated\n",
        "\n",
        "        # Aradaki grafiklerin logitlerini hesapla\n",
        "        with tf.GradientTape() as tape:\n",
        "            tape.watch(adjacency_interp)\n",
        "            tape.watch(features_interp)\n",
        "            logits = self.discriminator(\n",
        "                [adjacency_interp, features_interp], training=True\n",
        "            )\n",
        "\n",
        "        # Aradaki grafiklerin gradyanlarını hesapla\n",
        "        grads = tape.gradient(logits, [adjacency_interp, features_interp])\n",
        "        # Gradyan sapması (gradient penalty) hesapla\n",
        "        grads_adjacency_penalty = (1 - tf.norm(grads[0], axis=1)) ** 2\n",
        "        grads_features_penalty = (1 - tf.norm(grads[1], axis=2)) ** 2\n",
        "        return tf.reduce_mean(\n",
        "            tf.reduce_mean(grads_adjacency_penalty, axis=(-2, -1))\n",
        "            + tf.reduce_mean(grads_features_penalty, axis=(-1))\n",
        "        )\n"
      ]
    },
    {
      "cell_type": "markdown",
      "metadata": {
        "id": "k1K2MTUJaQFJ"
      },
      "source": [
        "# Modeli eğitme\n"
      ]
    },
    {
      "cell_type": "code",
      "execution_count": 101,
      "metadata": {
        "colab": {
          "base_uri": "https://localhost:8080/"
        },
        "id": "gWwRjerJ-g0Q",
        "outputId": "54a89a77-dc35-413d-b9f3-972445b93e68"
      },
      "outputs": [
        {
          "name": "stdout",
          "output_type": "stream",
          "text": [
            "Epoch 1/10\n",
            "837/837 [==============================] - 99s 104ms/step - loss_gen: 2.0107 - loss_dis: -4.2733\n",
            "Epoch 2/10\n",
            "837/837 [==============================] - 84s 101ms/step - loss_gen: 0.9426 - loss_dis: -1.2596\n",
            "Epoch 3/10\n",
            "837/837 [==============================] - 86s 103ms/step - loss_gen: 0.9399 - loss_dis: -1.8420\n",
            "Epoch 4/10\n",
            "837/837 [==============================] - 85s 101ms/step - loss_gen: 1.1516 - loss_dis: -2.3172\n",
            "Epoch 5/10\n",
            "837/837 [==============================] - 88s 105ms/step - loss_gen: 0.7622 - loss_dis: -2.0779\n",
            "Epoch 6/10\n",
            "837/837 [==============================] - 90s 107ms/step - loss_gen: 1.0277 - loss_dis: -2.0800\n",
            "Epoch 7/10\n",
            "837/837 [==============================] - 89s 107ms/step - loss_gen: 0.8980 - loss_dis: -1.8065\n",
            "Epoch 8/10\n",
            "837/837 [==============================] - 88s 105ms/step - loss_gen: 0.6268 - loss_dis: -1.6731\n",
            "Epoch 9/10\n",
            "837/837 [==============================] - 89s 106ms/step - loss_gen: 0.5356 - loss_dis: -1.7180\n",
            "Epoch 10/10\n",
            "837/837 [==============================] - 91s 109ms/step - loss_gen: 0.5909 - loss_dis: -1.9363\n"
          ]
        },
        {
          "data": {
            "text/plain": [
              "<keras.src.callbacks.History at 0x7be73e97eaa0>"
            ]
          },
          "execution_count": 101,
          "metadata": {},
          "output_type": "execute_result"
        }
      ],
      "source": [
        "wgan = GraphWGAN(generator, discriminator, discriminator_steps=1)\n",
        "\n",
        "wgan.compile(\n",
        "    optimizer_generator=keras.optimizers.Adam(5e-4),\n",
        "    optimizer_discriminator=keras.optimizers.Adam(5e-4),\n",
        ")\n",
        "\n",
        "wgan.fit([adjacency_tensor, feature_tensor], epochs=10, batch_size=16)"
      ]
    },
    {
      "cell_type": "markdown",
      "metadata": {
        "id": "8YW6gr8dambn"
      },
      "source": [
        "# Üreteciyle yeni moleküller örnekleyelim"
      ]
    },
    {
      "cell_type": "code",
      "execution_count": 102,
      "metadata": {
        "colab": {
          "base_uri": "https://localhost:8080/",
          "height": 784
        },
        "id": "n3lKiz-g-1FI",
        "outputId": "2f3b79dd-3a09-4a34-df51-bc6d0dff3212"
      },
      "outputs": [
        {
          "name": "stdout",
          "output_type": "stream",
          "text": [
            "2/2 [==============================] - 0s 7ms/step\n"
          ]
        },
        {
          "data": {
            "image/png": "[encoded data removed]",
            "text/plain": [
              "<IPython.core.display.Image object>"
            ]
          },
          "execution_count": 102,
          "metadata": {},
          "output_type": "execute_result"
        }
      ],
      "source": [
        "def sample(generator, batch_size):\n",
        "    # Belirtilen sayıda rastgele latent vektör oluştur\n",
        "    z = tf.random.normal((batch_size, LATENT_DIM))\n",
        "    # Generatorü kullanarak graf üret\n",
        "    graph = generator.predict(z)\n",
        "\n",
        "    # One-hot kodlu kenar tensorünü al\n",
        "    adjacency = tf.argmax(graph[0], axis=1)\n",
        "    adjacency = tf.one_hot(adjacency, depth=BOND_DIM, axis=1)\n",
        "    # Olası kendinden döngüleri kenar tensöründen kaldır\n",
        "    adjacency = tf.linalg.set_diag(adjacency, tf.zeros(tf.shape(adjacency)[:-1]))\n",
        "\n",
        "    # One-hot kodlu özellik tensorünü al\n",
        "    features = tf.argmax(graph[1], axis=2)\n",
        "    features = tf.one_hot(features, depth=ATOM_DIM, axis=2)\n",
        "\n",
        "    # Grafı moleküle dönüştür\n",
        "    return [\n",
        "        graph_to_molecule([adjacency[i].numpy(), features[i].numpy()])\n",
        "        for i in range(batch_size)\n",
        "    ]\n",
        "\n",
        "# WGAN generator ile örnekler oluştur\n",
        "molecules = sample(wgan.generator, batch_size=48)\n",
        "\n",
        "# Oluşturulan molekülleri görselleştir\n",
        "MolsToGridImage(\n",
        "    [m for m in molecules if m is not None][:25], molsPerRow=5, subImgSize=(150, 150)\n",
        ")\n"
      ]
    },
    {
      "cell_type": "markdown",
      "metadata": {
        "id": "nQWLp_FeJE01"
      },
      "source": [
        "Örnek dataset tamamlandı.\n",
        "\n"
      ]
    },
    {
      "cell_type": "markdown",
      "metadata": {
        "id": "bDVRDKq3r_oi"
      },
      "source": [
        "**----------------------------------------------------**"
      ]
    },
    {
      "cell_type": "markdown",
      "metadata": {
        "id": "1LPazrbzbgPs"
      },
      "source": [
        "# Şimdi bulduğumuz farklı datasetini koda uyarlayarak kendimiz eğiteceğiz"
      ]
    },
    {
      "cell_type": "markdown",
      "metadata": {
        "id": "sZxkwz3Wb7pv"
      },
      "source": [
        "**Datasetini indirip moleküle bir göz atalım**"
      ]
    },
    {
      "cell_type": "code",
      "execution_count": 103,
      "metadata": {
        "colab": {
          "base_uri": "https://localhost:8080/",
          "height": 202
        },
        "id": "0Otqp4VHsDTI",
        "outputId": "d37b5220-cef6-459f-e368-ff6e225af8ee"
      },
      "outputs": [
        {
          "name": "stdout",
          "output_type": "stream",
          "text": [
            "SMILES: [H]C(=O)c1nc([H])c([H])n1[H]\n",
            "Num heavy atoms: 7\n"
          ]
        },
        {
          "data": {
            "image/png": "[encoded data removed]",
            "text/plain": [
              "<rdkit.Chem.rdchem.Mol at 0x7be730975af0>"
            ]
          },
          "execution_count": 103,
          "metadata": {},
          "output_type": "execute_result"
        }
      ],
      "source": [
        "# Veri kümesini indir\n",
        "csv_path = tf.keras.utils.get_file(\n",
        "    \"qm8.csv\", \"https://deepchemdata.s3-us-west-1.amazonaws.com/datasets/qm8.csv\"\n",
        ")\n",
        "\n",
        "# Dosyadan verileri oku ve SMILES dizinine ekle\n",
        "data2 = []\n",
        "with open(csv_path, \"r\") as f:\n",
        "    for line in f.readlines()[1:]:\n",
        "        data2.append(line.split(\",\")[0])\n",
        "\n",
        "# Veri kümesindeki bir moleküle bakalım\n",
        "smiles = data2[1000]\n",
        "print(\"SMILES:\", smiles)\n",
        "\n",
        "# SMILES dizgisinden bir RDKit molekülü oluştur\n",
        "molecule = Chem.MolFromSmiles(smiles)\n",
        "print(\"Num heavy atoms:\", molecule.GetNumHeavyAtoms())\n",
        "\n",
        "# Oluşturulan molekülü görselleştir\n",
        "molecule\n"
      ]
    },
    {
      "cell_type": "markdown",
      "metadata": {
        "id": "LajGnsr8eDBx"
      },
      "source": [
        "**Atomları ve bağları güncelliyoruz**"
      ]
    },
    {
      "cell_type": "code",
      "execution_count": 104,
      "metadata": {
        "id": "2Zn3iBLds0Nf"
      },
      "outputs": [],
      "source": [
        "# Atom türlerini ve bağ tiplerini sayısal olarak temsil etmek için kullanılacak eşleme sözlükleri\n",
        "atom_mapping = {\n",
        "    \"C\": 0,  # Karbon atomunu 0 olarak temsil et\n",
        "    0: \"C\",  # 0 sayısını karbon atomuna dönüştür\n",
        "    \"N\": 1,  # Azot atomunu 1 olarak temsil et\n",
        "    1: \"N\",  # 1 sayısını azot atomuna dönüştür\n",
        "    \"O\": 2,  # Oksijen atomunu 2 olarak temsil et\n",
        "    2: \"O\",  # 2 sayısını oksijen atomuna dönüştür\n",
        "    \"F\": 3,  # Flor atomunu 3 olarak temsil et\n",
        "    3: \"F\",  # 3 sayısını flor atomuna dönüştür\n",
        "    \"H\": 4,  # Hidrojen atomunu 4 olarak temsil et\n",
        "    4: \"H\",  # 4 sayısını hidrojen atomuna dönüştür\n",
        "}\n",
        "\n",
        "bond_mapping = {\n",
        "    \"SINGLE\": 0,    # Tek bağı 0 olarak temsil et\n",
        "    0: Chem.BondType.SINGLE,   # 0 sayısını tek bağ tipine dönüştür\n",
        "    \"DOUBLE\": 1,    # Çift bağı 1 olarak temsil et\n",
        "    1: Chem.BondType.DOUBLE,   # 1 sayısını çift bağ tipine dönüştür\n",
        "    \"TRIPLE\": 2,    # Üçlü bağı 2 olarak temsil et\n",
        "    2: Chem.BondType.TRIPLE,   # 2 sayısını üçlü bağ tipine dönüştür\n",
        "    \"AROMATIC\": 3,  # Aromatik bağı 3 olarak temsil et\n",
        "    3: Chem.BondType.AROMATIC,  # 3 sayısını aromatik bağ tipine dönüştür\n",
        "}\n",
        "\n",
        "NUM_ATOMS = 9  # Maksimum atom sayısı\n",
        "ATOM_DIM = 4 + 1  # Atom tiplerinin sayısı + 1 (diğer)\n",
        "BOND_DIM = 4 + 1  # Bağ tiplerinin sayısı + 1 (diğer)\n",
        "LATENT_DIM = 64  # Latent uzayın boyutu\n",
        "\n",
        "# SMILES dizgisini bir molekül grafiğine dönüştüren ve ardından molekül yapısını döndüren fonksiyonu çağır\n",
        "graph_to_molecule(smiles_to_graph(smiles))\n"
      ]
    },
    {
      "cell_type": "markdown",
      "metadata": {
        "id": "Zqndn4YtiKfl"
      },
      "source": [
        "**Örnekte zamandan tasarruf için veri setinin 10 da birini kullanırken biz tüm datasetini kullanarak eğitilcek verileri ayarlıyoruz**"
      ]
    },
    {
      "cell_type": "code",
      "execution_count": 105,
      "metadata": {
        "colab": {
          "base_uri": "https://localhost:8080/"
        },
        "id": "7MOWJWo3gq-a",
        "outputId": "ae0ca371-e191-451e-dc48-ba69f65de651"
      },
      "outputs": [
        {
          "name": "stdout",
          "output_type": "stream",
          "text": [
            "adjacency_tensor.shape = (21786, 5, 9, 9)\n",
            "feature_tensor.shape = (21786, 9, 5)\n"
          ]
        }
      ],
      "source": [
        "adjacency_tensor, feature_tensor = [], []\n",
        "for smiles in data2[::1]:\n",
        "    adjacency, features = smiles_to_graph(smiles)\n",
        "    adjacency_tensor.append(adjacency)\n",
        "    feature_tensor.append(features)\n",
        "\n",
        "adjacency_tensor = np.array(adjacency_tensor)\n",
        "feature_tensor = np.array(feature_tensor)\n",
        "\n",
        "print(\"adjacency_tensor.shape =\", adjacency_tensor.shape)\n",
        "print(\"feature_tensor.shape =\", feature_tensor.shape)"
      ]
    },
    {
      "cell_type": "code",
      "execution_count": 106,
      "metadata": {
        "colab": {
          "base_uri": "https://localhost:8080/"
        },
        "id": "c6W9ud2htYMC",
        "outputId": "579ff278-665c-436d-bc26-c7cc6320b997"
      },
      "outputs": [
        {
          "name": "stdout",
          "output_type": "stream",
          "text": [
            "Model: \"Generator\"\n",
            "__________________________________________________________________________________________________\n",
            " Layer (type)                Output Shape                 Param #   Connected to                  \n",
            "==================================================================================================\n",
            " input_30 (InputLayer)       [(None, 64)]                 0         []                            \n",
            "                                                                                                  \n",
            " dense_82 (Dense)            (None, 128)                  8320      ['input_30[0][0]']            \n",
            "                                                                                                  \n",
            " dropout_51 (Dropout)        (None, 128)                  0         ['dense_82[0][0]']            \n",
            "                                                                                                  \n",
            " dense_83 (Dense)            (None, 256)                  33024     ['dropout_51[0][0]']          \n",
            "                                                                                                  \n",
            " dropout_52 (Dropout)        (None, 256)                  0         ['dense_83[0][0]']            \n",
            "                                                                                                  \n",
            " dense_84 (Dense)            (None, 512)                  131584    ['dropout_52[0][0]']          \n",
            "                                                                                                  \n",
            " dropout_53 (Dropout)        (None, 512)                  0         ['dense_84[0][0]']            \n",
            "                                                                                                  \n",
            " dense_85 (Dense)            (None, 405)                  207765    ['dropout_53[0][0]']          \n",
            "                                                                                                  \n",
            " reshape_22 (Reshape)        (None, 5, 9, 9)              0         ['dense_85[0][0]']            \n",
            "                                                                                                  \n",
            " tf.compat.v1.transpose_11   (None, 5, 9, 9)              0         ['reshape_22[0][0]']          \n",
            " (TFOpLambda)                                                                                     \n",
            "                                                                                                  \n",
            " tf.__operators__.add_11 (T  (None, 5, 9, 9)              0         ['reshape_22[0][0]',          \n",
            " FOpLambda)                                                          'tf.compat.v1.transpose_11[0]\n",
            "                                                                    [0]']                         \n",
            "                                                                                                  \n",
            " dense_86 (Dense)            (None, 45)                   23085     ['dropout_53[0][0]']          \n",
            "                                                                                                  \n",
            " tf.math.truediv_11 (TFOpLa  (None, 5, 9, 9)              0         ['tf.__operators__.add_11[0][0\n",
            " mbda)                                                              ]']                           \n",
            "                                                                                                  \n",
            " reshape_23 (Reshape)        (None, 9, 5)                 0         ['dense_86[0][0]']            \n",
            "                                                                                                  \n",
            " softmax_22 (Softmax)        (None, 5, 9, 9)              0         ['tf.math.truediv_11[0][0]']  \n",
            "                                                                                                  \n",
            " softmax_23 (Softmax)        (None, 9, 5)                 0         ['reshape_23[0][0]']          \n",
            "                                                                                                  \n",
            "==================================================================================================\n",
            "Total params: 403778 (1.54 MB)\n",
            "Trainable params: 403778 (1.54 MB)\n",
            "Non-trainable params: 0 (0.00 Byte)\n",
            "__________________________________________________________________________________________________\n"
          ]
        }
      ],
      "source": [
        "# GraphGenerator modeli oluştur\n",
        "generator = GraphGenerator(\n",
        "    dense_units=[128, 256, 512],                # Yoğun katmanlardaki birim sayıları\n",
        "    dropout_rate=0.2,                           # Bırakma oranı\n",
        "    latent_dim=LATENT_DIM,                      # Gizli uzay boyutu\n",
        "    adjacency_shape=(BOND_DIM, NUM_ATOMS, NUM_ATOMS),  # Kenar tensörünün şekli\n",
        "    feature_shape=(NUM_ATOMS, ATOM_DIM),        # Özellik tensörünün şekli\n",
        ")\n",
        "\n",
        "# Model özetini görüntüle\n",
        "generator.summary()\n"
      ]
    },
    {
      "cell_type": "code",
      "execution_count": 107,
      "metadata": {
        "colab": {
          "base_uri": "https://localhost:8080/"
        },
        "id": "kWPjVZdUtcyS",
        "outputId": "b45648c6-5e17-498c-d7c7-32533375124f"
      },
      "outputs": [
        {
          "name": "stdout",
          "output_type": "stream",
          "text": [
            "Model: \"model_9\"\n",
            "__________________________________________________________________________________________________\n",
            " Layer (type)                Output Shape                 Param #   Connected to                  \n",
            "==================================================================================================\n",
            " input_31 (InputLayer)       [(None, 5, 9, 9)]            0         []                            \n",
            "                                                                                                  \n",
            " input_32 (InputLayer)       [(None, 9, 5)]               0         []                            \n",
            "                                                                                                  \n",
            " relational_graph_conv_laye  (None, 9, 128)               3200      ['input_31[0][0]',            \n",
            " r_36 (RelationalGraphConvL                                          'input_32[0][0]']            \n",
            " ayer)                                                                                            \n",
            "                                                                                                  \n",
            " relational_graph_conv_laye  (None, 9, 128)               81920     ['input_31[0][0]',            \n",
            " r_37 (RelationalGraphConvL                                          'relational_graph_conv_layer_\n",
            " ayer)                                                              36[0][0]']                    \n",
            "                                                                                                  \n",
            " relational_graph_conv_laye  (None, 9, 128)               81920     ['input_31[0][0]',            \n",
            " r_38 (RelationalGraphConvL                                          'relational_graph_conv_layer_\n",
            " ayer)                                                              37[0][0]']                    \n",
            "                                                                                                  \n",
            " relational_graph_conv_laye  (None, 9, 128)               81920     ['input_31[0][0]',            \n",
            " r_39 (RelationalGraphConvL                                          'relational_graph_conv_layer_\n",
            " ayer)                                                              38[0][0]']                    \n",
            "                                                                                                  \n",
            " global_average_pooling1d_9  (None, 128)                  0         ['relational_graph_conv_layer_\n",
            "  (GlobalAveragePooling1D)                                          39[0][0]']                    \n",
            "                                                                                                  \n",
            " dense_87 (Dense)            (None, 512)                  66048     ['global_average_pooling1d_9[0\n",
            "                                                                    ][0]']                        \n",
            "                                                                                                  \n",
            " dropout_54 (Dropout)        (None, 512)                  0         ['dense_87[0][0]']            \n",
            "                                                                                                  \n",
            " dense_88 (Dense)            (None, 512)                  262656    ['dropout_54[0][0]']          \n",
            "                                                                                                  \n",
            " dropout_55 (Dropout)        (None, 512)                  0         ['dense_88[0][0]']            \n",
            "                                                                                                  \n",
            " dense_89 (Dense)            (None, 1)                    513       ['dropout_55[0][0]']          \n",
            "                                                                                                  \n",
            "==================================================================================================\n",
            "Total params: 578177 (2.21 MB)\n",
            "Trainable params: 578177 (2.21 MB)\n",
            "Non-trainable params: 0 (0.00 Byte)\n",
            "__________________________________________________________________________________________________\n"
          ]
        }
      ],
      "source": [
        "# GraphDiscriminator modelini oluştur\n",
        "discriminator = GraphDiscriminator(\n",
        "    gconv_units=[128, 128, 128, 128],            # Graf farklılaştırıcı birimleri\n",
        "    dense_units=[512, 512],                      # Yoğun katmanlardaki birim sayıları\n",
        "    dropout_rate=0.2,                            # Bırakma oranı\n",
        "    adjacency_shape=(BOND_DIM, NUM_ATOMS, NUM_ATOMS),  # Kenar tensörünün şekli\n",
        "    feature_shape=(NUM_ATOMS, ATOM_DIM),         # Özellik tensörünün şekli\n",
        ")\n",
        "\n",
        "# Model özetini görüntüle\n",
        "discriminator.summary()\n"
      ]
    },
    {
      "cell_type": "markdown",
      "metadata": {
        "id": "rx0wOXW0ewor"
      },
      "source": [
        "**Modelimizi farklı datasetiyle eğitiyoruz**"
      ]
    },
    {
      "cell_type": "code",
      "execution_count": 108,
      "metadata": {
        "colab": {
          "base_uri": "https://localhost:8080/"
        },
        "id": "vnJF6RaztnBa",
        "outputId": "4a8769af-96d6-44a0-880c-1e12e9307c48"
      },
      "outputs": [
        {
          "name": "stdout",
          "output_type": "stream",
          "text": [
            "Epoch 1/10\n",
            "1362/1362 [==============================] - 152s 106ms/step - loss_gen: 1.3178 - loss_dis: -3.0260\n",
            "Epoch 2/10\n",
            "1362/1362 [==============================] - 136s 100ms/step - loss_gen: 0.4142 - loss_dis: -1.1586\n",
            "Epoch 3/10\n",
            "1362/1362 [==============================] - 139s 102ms/step - loss_gen: 0.8871 - loss_dis: -2.1482\n",
            "Epoch 4/10\n",
            "1362/1362 [==============================] - 137s 101ms/step - loss_gen: 0.9742 - loss_dis: -2.3112\n",
            "Epoch 5/10\n",
            "1362/1362 [==============================] - 139s 102ms/step - loss_gen: 0.5185 - loss_dis: -1.8371\n",
            "Epoch 6/10\n",
            "1362/1362 [==============================] - 137s 100ms/step - loss_gen: 0.8484 - loss_dis: -1.6823\n",
            "Epoch 7/10\n",
            "1362/1362 [==============================] - 146s 107ms/step - loss_gen: 0.7809 - loss_dis: -1.8927\n",
            "Epoch 8/10\n",
            "1362/1362 [==============================] - 138s 102ms/step - loss_gen: 0.8552 - loss_dis: -1.5889\n",
            "Epoch 9/10\n",
            "1362/1362 [==============================] - 138s 101ms/step - loss_gen: 0.5391 - loss_dis: -1.5732\n",
            "Epoch 10/10\n",
            "1362/1362 [==============================] - 136s 100ms/step - loss_gen: 0.4361 - loss_dis: -1.2254\n"
          ]
        },
        {
          "data": {
            "text/plain": [
              "<keras.src.callbacks.History at 0x7be73e30a3b0>"
            ]
          },
          "execution_count": 108,
          "metadata": {},
          "output_type": "execute_result"
        }
      ],
      "source": [
        "# GraphWGAN modelini oluştur\n",
        "wgan = GraphWGAN(generator, discriminator, discriminator_steps=1)\n",
        "\n",
        "# Modeli derle\n",
        "wgan.compile(\n",
        "    optimizer_generator=keras.optimizers.Adam(5e-4),         # Üreteci optimizer\n",
        "    optimizer_discriminator=keras.optimizers.Adam(5e-4),     # Farklılaştırıcı optimizer\n",
        ")\n",
        "\n",
        "# Modeli veriyle eğit\n",
        "wgan.fit([adjacency_tensor, feature_tensor], epochs=10, batch_size=16)\n"
      ]
    },
    {
      "cell_type": "markdown",
      "metadata": {
        "id": "Q8HelyCifEWn"
      },
      "source": [
        "**Eğittiğimiz model ile birkaç örnek oluşturalım**"
      ]
    },
    {
      "cell_type": "code",
      "execution_count": 109,
      "metadata": {
        "colab": {
          "base_uri": "https://localhost:8080/",
          "height": 784
        },
        "id": "BXbM68UTtqyC",
        "outputId": "ba225526-0388-41fc-a6b9-0db5b97777b8"
      },
      "outputs": [
        {
          "name": "stdout",
          "output_type": "stream",
          "text": [
            "2/2 [==============================] - 0s 7ms/step\n"
          ]
        },
        {
          "data": {
            "image/png": "[encoded data removed]",
            "text/plain": [
              "<IPython.core.display.Image object>"
            ]
          },
          "execution_count": 109,
          "metadata": {},
          "output_type": "execute_result"
        }
      ],
      "source": [
        "# WGAN generator kullanarak molekül örnekleri oluştur\n",
        "molecules = sample(wgan.generator, batch_size=48)\n",
        "\n",
        "# Oluşturulan molekülleri görselleştir\n",
        "MolsToGridImage(\n",
        "    [m for m in molecules if m is not None][:25], molsPerRow=5, subImgSize=(150, 150)\n",
        ")\n"
      ]
    },
    {
      "cell_type": "markdown",
      "metadata": {
        "id": "1BNvOO0rin-x"
      },
      "source": [
        "# REFERANSLAR\n",
        "## https://keras.io/examples/generative/wgan-graphs/\n",
        "## https://www.kaggle.com/datasets/zaharch/quantum-machine-9-aka-qm9\n",
        "## https://www.kaggle.com/datasets/shivanshuman/quantum-machine-8-aka-qm8\n",
        "## https://moleculenet.org/datasets-1"
      ]
    }
  ],
  "metadata": {
    "colab": {
      "provenance": []
    },
    "kernelspec": {
      "display_name": "Python 3",
      "name": "python3"
    },
    "language_info": {
      "name": "python"
    }
  },
  "nbformat": 4,
  "nbformat_minor": 0
}
